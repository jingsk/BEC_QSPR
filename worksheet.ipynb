{
 "cells": [
  {
   "cell_type": "code",
   "execution_count": 1,
   "id": "e99ceab8-69a8-49a7-bbc4-04c28d2fe036",
   "metadata": {},
   "outputs": [],
   "source": [
    "# model\n",
    "import torch\n",
    "import torch.nn as nn\n",
    "import torch.nn.functional as F\n",
    "import torch_geometric as tg\n",
    "import torch_scatter\n",
    "import e3nn\n",
    "from e3nn import o3\n",
    "from typing import Dict, Union\n",
    "\n",
    "# crystal structure data\n",
    "from ase import Atom, Atoms\n",
    "from ase.neighborlist import neighbor_list\n",
    "from ase.visualize.plot import plot_atoms\n",
    "\n",
    "# data pre-processing and visualization\n",
    "import numpy as np\n",
    "import matplotlib as mpl\n",
    "import matplotlib.pyplot as plt\n",
    "from mpl_toolkits.axes_grid1.inset_locator import inset_axes\n",
    "\n",
    "# utilities\n",
    "import time\n",
    "from tqdm import tqdm\n",
    "# from utils.utils_data import (load_data, train_valid_test_split, plot_example, plot_predictions, plot_partials,\n",
    "#                               palette, colors, cmap)\n",
    "# from utils.utils_model import Network, visualize_layers, train\n",
    "# from utils.utils_plot import plotly_surface, plot_orbitals, get_middle_feats\n",
    "from utils.data import (load_data)\n",
    "\n",
    "bar_format = '{l_bar}{bar:10}{r_bar}{bar:-10b}'\n",
    "tqdm.pandas(bar_format=bar_format)\n",
    "default_dtype = torch.float32\n",
    "torch.set_default_dtype(default_dtype)"
   ]
  },
  {
   "cell_type": "code",
   "execution_count": 2,
   "id": "1ee32913-e889-4254-90ec-624232614479",
   "metadata": {},
   "outputs": [
    {
     "data": {
      "text/html": [
       "<div>\n",
       "<style scoped>\n",
       "    .dataframe tbody tr th:only-of-type {\n",
       "        vertical-align: middle;\n",
       "    }\n",
       "\n",
       "    .dataframe tbody tr th {\n",
       "        vertical-align: top;\n",
       "    }\n",
       "\n",
       "    .dataframe thead th {\n",
       "        text-align: right;\n",
       "    }\n",
       "</style>\n",
       "<table border=\"1\" class=\"dataframe\">\n",
       "  <thead>\n",
       "    <tr style=\"text-align: right;\">\n",
       "      <th></th>\n",
       "      <th>structure</th>\n",
       "      <th>bec</th>\n",
       "      <th>energy</th>\n",
       "      <th>forces</th>\n",
       "      <th>formula</th>\n",
       "      <th>species</th>\n",
       "    </tr>\n",
       "  </thead>\n",
       "  <tbody>\n",
       "    <tr>\n",
       "      <th>0</th>\n",
       "      <td>(Atom('Nd', [0.21386, 5.14073, 5.74185], magmo...</td>\n",
       "      <td>[[[4.18062096, -0.10635331, 0.05667826], [-0.0...</td>\n",
       "      <td>-160.954128</td>\n",
       "      <td>[[0.04883505, -0.02411291, 0.01005567], [0.016...</td>\n",
       "      <td>H4Nd4Ni4O12</td>\n",
       "      <td>[O, H, Nd, Ni]</td>\n",
       "    </tr>\n",
       "    <tr>\n",
       "      <th>1</th>\n",
       "      <td>(Atom('Nd', [0.48857, 5.18121, 5.82727], magmo...</td>\n",
       "      <td>[[[3.94453436, 0.05827721, 0.08160375], [0.097...</td>\n",
       "      <td>-160.832210</td>\n",
       "      <td>[[0.0062039, -0.01181304, -0.00304418], [-0.00...</td>\n",
       "      <td>H4Nd4Ni4O12</td>\n",
       "      <td>[O, H, Nd, Ni]</td>\n",
       "    </tr>\n",
       "    <tr>\n",
       "      <th>2</th>\n",
       "      <td>(Atom('Nd', [0.51902, 5.11215, 6.25313], magmo...</td>\n",
       "      <td>[[[4.23309052, -0.06272848, -0.0245231], [0.20...</td>\n",
       "      <td>-161.126651</td>\n",
       "      <td>[[-0.00153404, -0.01371113, 0.03815604], [-0.0...</td>\n",
       "      <td>H4Nd4Ni4O12</td>\n",
       "      <td>[O, H, Nd, Ni]</td>\n",
       "    </tr>\n",
       "    <tr>\n",
       "      <th>3</th>\n",
       "      <td>(Atom('Nd', [0.22578, 5.15645, 5.72975], magmo...</td>\n",
       "      <td>[[[4.31953816, 0.39699484, 0.10816991], [0.492...</td>\n",
       "      <td>-161.306738</td>\n",
       "      <td>[[-0.02449503, -0.019128, -0.02941035], [0.001...</td>\n",
       "      <td>H4Nd4Ni4O12</td>\n",
       "      <td>[O, H, Nd, Ni]</td>\n",
       "    </tr>\n",
       "    <tr>\n",
       "      <th>4</th>\n",
       "      <td>(Atom('Nd', [0.48497, -0.06402, 5.75643], magm...</td>\n",
       "      <td>[[[4.12645607, 0.18284011, 0.09932547], [0.383...</td>\n",
       "      <td>-160.415418</td>\n",
       "      <td>[[0.00508027, -0.03106301, 0.08675875], [-0.10...</td>\n",
       "      <td>H4Nd4Ni4O12</td>\n",
       "      <td>[O, H, Nd, Ni]</td>\n",
       "    </tr>\n",
       "  </tbody>\n",
       "</table>\n",
       "</div>"
      ],
      "text/plain": [
       "                                           structure   \n",
       "0  (Atom('Nd', [0.21386, 5.14073, 5.74185], magmo...  \\\n",
       "1  (Atom('Nd', [0.48857, 5.18121, 5.82727], magmo...   \n",
       "2  (Atom('Nd', [0.51902, 5.11215, 6.25313], magmo...   \n",
       "3  (Atom('Nd', [0.22578, 5.15645, 5.72975], magmo...   \n",
       "4  (Atom('Nd', [0.48497, -0.06402, 5.75643], magm...   \n",
       "\n",
       "                                                 bec      energy   \n",
       "0  [[[4.18062096, -0.10635331, 0.05667826], [-0.0... -160.954128  \\\n",
       "1  [[[3.94453436, 0.05827721, 0.08160375], [0.097... -160.832210   \n",
       "2  [[[4.23309052, -0.06272848, -0.0245231], [0.20... -161.126651   \n",
       "3  [[[4.31953816, 0.39699484, 0.10816991], [0.492... -161.306738   \n",
       "4  [[[4.12645607, 0.18284011, 0.09932547], [0.383... -160.415418   \n",
       "\n",
       "                                              forces      formula   \n",
       "0  [[0.04883505, -0.02411291, 0.01005567], [0.016...  H4Nd4Ni4O12  \\\n",
       "1  [[0.0062039, -0.01181304, -0.00304418], [-0.00...  H4Nd4Ni4O12   \n",
       "2  [[-0.00153404, -0.01371113, 0.03815604], [-0.0...  H4Nd4Ni4O12   \n",
       "3  [[-0.02449503, -0.019128, -0.02941035], [0.001...  H4Nd4Ni4O12   \n",
       "4  [[0.00508027, -0.03106301, 0.08675875], [-0.10...  H4Nd4Ni4O12   \n",
       "\n",
       "          species  \n",
       "0  [O, H, Nd, Ni]  \n",
       "1  [O, H, Nd, Ni]  \n",
       "2  [O, H, Nd, Ni]  \n",
       "3  [O, H, Nd, Ni]  \n",
       "4  [O, H, Nd, Ni]  "
      ]
     },
     "execution_count": 2,
     "metadata": {},
     "output_type": "execute_result"
    }
   ],
   "source": [
    "# load data\n",
    "df, species = load_data('data/bec_run.db')\n",
    "df.head()"
   ]
  },
  {
   "cell_type": "code",
   "execution_count": 3,
   "id": "e763efdb-e558-46f0-92f1-9a668e425e04",
   "metadata": {},
   "outputs": [
    {
     "data": {
      "text/plain": [
       "structure     object\n",
       "bec           object\n",
       "energy       float64\n",
       "forces        object\n",
       "formula       object\n",
       "species       object\n",
       "dtype: object"
      ]
     },
     "execution_count": 3,
     "metadata": {},
     "output_type": "execute_result"
    }
   ],
   "source": [
    "df.dtypes"
   ]
  },
  {
   "cell_type": "code",
   "execution_count": 5,
   "id": "e741d10e-6088-4071-b34f-d0dc2ce5cb47",
   "metadata": {},
   "outputs": [
    {
     "data": {
      "text/plain": [
       "array([[[ 4.18062096e+00, -1.06353310e-01,  5.66782600e-02],\n",
       "        [-6.56474800e-02,  4.10805767e+00,  3.90021400e-02],\n",
       "        [ 3.58588300e-02,  2.28088000e-02,  4.05099451e+00]],\n",
       "\n",
       "       [[ 4.39752881e+00, -1.79209270e-01,  6.05955000e-03],\n",
       "        [-3.17797760e-01,  3.69352964e+00,  1.34514200e-02],\n",
       "        [-1.18605100e-02,  1.28390100e-02,  3.97240425e+00]],\n",
       "\n",
       "       [[ 4.21032064e+00,  1.95080080e-01,  1.81588520e-01],\n",
       "        [ 1.99591500e-02,  4.26366292e+00,  1.84628820e-01],\n",
       "        [ 1.19836250e-01,  1.74157690e-01,  4.05328229e+00]],\n",
       "\n",
       "       [[ 4.01634342e+00,  1.24787020e-01, -2.19450880e-01],\n",
       "        [ 2.98161900e-01,  4.35724060e+00, -1.35950910e-01],\n",
       "        [-1.94406960e-01, -1.76541150e-01,  4.16347780e+00]],\n",
       "\n",
       "       [[ 1.87083165e+00,  1.04859660e-01, -4.87251000e-03],\n",
       "        [-1.01829890e-01,  1.82847470e+00, -1.07960940e-01],\n",
       "        [-9.08903000e-03,  1.73633770e-01,  1.74551643e+00]],\n",
       "\n",
       "       [[ 1.82997296e+00, -2.28738060e-01,  1.01038970e-01],\n",
       "        [ 2.20534900e-02,  1.74019347e+00, -7.02769800e-02],\n",
       "        [ 1.15752740e-01,  1.50602990e-01,  1.78922489e+00]],\n",
       "\n",
       "       [[ 1.78865402e+00, -9.29969800e-02, -3.11800600e-02],\n",
       "        [ 6.60858000e-02,  1.43571580e+00,  7.82809100e-02],\n",
       "        [ 3.78606400e-02, -9.08812200e-02,  1.98848789e+00]],\n",
       "\n",
       "       [[ 1.99307895e+00,  1.72395500e-01, -1.19513500e-01],\n",
       "        [-1.09422700e-01,  1.54223744e+00,  2.43282100e-02],\n",
       "        [-8.69420200e-02, -2.17592100e-01,  1.61390060e+00]],\n",
       "\n",
       "       [[-2.36062008e+00, -4.68330850e-01,  1.57468010e-01],\n",
       "        [-4.60736630e-01, -2.00913132e+00,  1.84691420e-01],\n",
       "        [-4.06644600e-02,  9.50347100e-02, -1.87155759e+00]],\n",
       "\n",
       "       [[-2.57430926e+00,  1.09476280e-01,  5.73013300e-02],\n",
       "        [ 1.18371570e-01, -2.27008322e+00, -2.21382820e-01],\n",
       "        [ 5.11707300e-02, -2.75414380e-01, -2.34237544e+00]],\n",
       "\n",
       "       [[-2.04969436e+00,  3.17017970e-01,  2.16541000e-02],\n",
       "        [ 2.88366570e-01, -2.48251405e+00, -1.23353000e-03],\n",
       "        [ 5.04520900e-02,  1.13354600e-02, -1.79853309e+00]],\n",
       "\n",
       "       [[-2.40086167e+00, -1.02079000e-03,  1.05405780e-01],\n",
       "        [-3.96213700e-02, -1.94830208e+00,  3.05488470e-01],\n",
       "        [ 9.45905600e-02,  2.49744040e-01, -2.16258547e+00]],\n",
       "\n",
       "       [[-2.44736367e+00, -2.45809380e-01, -2.58567050e-01],\n",
       "        [-2.14369920e-01, -2.18013796e+00, -2.78758110e-01],\n",
       "        [-1.54575170e-01, -2.65322870e-01, -2.04510528e+00]],\n",
       "\n",
       "       [[-2.49453831e+00,  4.78981900e-02,  4.58458500e-02],\n",
       "        [ 6.88109300e-02, -2.47214117e+00, -3.29229020e-01],\n",
       "        [ 1.63397600e-02, -2.55017230e-01, -2.17021300e+00]],\n",
       "\n",
       "       [[-2.23491442e+00,  2.60903200e-02, -1.69028600e-02],\n",
       "        [ 4.18364800e-02, -1.87183134e+00,  1.89816690e-01],\n",
       "        [-8.79761500e-02,  2.09406890e-01, -2.44382258e+00]],\n",
       "\n",
       "       [[-2.25867927e+00, -2.64233380e-01,  3.19852670e-01],\n",
       "        [-3.61244260e-01, -2.21089688e+00,  1.37297430e-01],\n",
       "        [ 2.05106860e-01, -1.05847000e-03, -1.76073267e+00]],\n",
       "\n",
       "       [[-2.38021394e+00,  2.62945790e-01,  2.08659090e-01],\n",
       "        [ 8.50600400e-02, -2.46153630e+00,  9.32829300e-02],\n",
       "        [ 4.01252080e-01,  2.20626800e-01, -2.89687271e+00]],\n",
       "\n",
       "       [[-2.07265475e+00, -6.77508200e-01, -5.12478400e-02],\n",
       "        [-5.40471230e-01, -2.20772730e+00, -2.85823800e-02],\n",
       "        [-7.53289900e-02, -1.29363740e-01, -2.06443247e+00]],\n",
       "\n",
       "       [[-1.96519833e+00, -2.57022090e-01,  5.65048900e-02],\n",
       "        [-2.30646390e-01, -1.96107038e+00, -3.25809800e-02],\n",
       "        [ 9.89590500e-02, -1.02105810e-01, -2.12290189e+00]],\n",
       "\n",
       "       [[-2.05621502e+00,  4.33519330e-01,  6.34198900e-02],\n",
       "        [ 4.79832920e-01, -2.47797022e+00,  1.07302340e-01],\n",
       "        [ 2.41719200e-02,  2.05469520e-01, -2.03935594e+00]],\n",
       "\n",
       "       [[ 1.07492172e+00,  5.43343680e-01, -4.89245160e-01],\n",
       "        [ 6.38714430e-01,  6.58991440e-01, -4.01778400e-01],\n",
       "        [-4.01907610e-01, -3.11597550e-01,  7.87824480e-01]],\n",
       "\n",
       "       [[ 6.43522260e-01,  2.84211300e-02, -1.67124730e-01],\n",
       "        [ 1.27011250e-01,  9.17475710e-01, -7.88123100e-02],\n",
       "        [-1.49427790e-01, -3.40114100e-02,  6.57184200e-01]],\n",
       "\n",
       "       [[ 7.99681990e-01,  6.36146800e-02, -3.03351000e-02],\n",
       "        [ 1.65874050e-01,  7.52936890e-01,  1.14323250e-01],\n",
       "        [-1.37211700e-02,  1.12240340e-01,  5.20619190e-01]],\n",
       "\n",
       "       [[ 4.89785670e-01,  9.17726700e-02,  6.96280000e-03],\n",
       "        [ 2.16490400e-02,  1.25482597e+00,  2.14652360e-01],\n",
       "        [-2.54516500e-02,  2.21005920e-01,  3.75571620e-01]]])"
      ]
     },
     "execution_count": 5,
     "metadata": {},
     "output_type": "execute_result"
    }
   ],
   "source": [
    "df.iloc[0]['bec']"
   ]
  },
  {
   "cell_type": "code",
   "execution_count": 27,
   "id": "74460832-8fd5-43c7-89bc-deffff83ffe1",
   "metadata": {},
   "outputs": [
    {
     "data": {
      "text/plain": [
       "Atoms(symbols='BaTe', pbc=True, cell=[[1.4195005246127737, 4.014953787406216, 2.4586470300000003], [1.4195005246127737, 4.014953787406216, -2.4586470299999994], [-2.839001049225547, 4.014953787406216, -0.0]])"
      ]
     },
     "execution_count": 27,
     "metadata": {},
     "output_type": "execute_result"
    }
   ],
   "source": [
    "Atoms.fromdict({'numbers': [56, 52], \n",
    " 'positions': [[0.0, 0.0, 0.0], [2.220446049250313e-16, 6.022430681109324, -4.440892098500626e-16]], \n",
    " 'cell': [[1.4195005246127737, 4.014953787406216, 2.4586470300000003], [1.4195005246127737, 4.014953787406216, -2.4586470299999994], [-2.839001049225547, 4.014953787406216, -0.0]], \n",
    " 'pbc': [True, True, True]})"
   ]
  },
  {
   "cell_type": "code",
   "execution_count": 3,
   "id": "836c6dc9-4e27-48f1-8c5a-5337c5ac2723",
   "metadata": {},
   "outputs": [
    {
     "name": "stderr",
     "output_type": "stream",
     "text": [
      "100%|██████████| 118/118 [00:00<00:00, 160534.50it/s]                                                                         \n"
     ]
    }
   ],
   "source": [
    "# one-hot encoding atom type and mass\n",
    "type_encoding = {}\n",
    "specie_am = []\n",
    "for Z in tqdm(range(1, 119), bar_format=bar_format):\n",
    "    specie = Atom(Z)\n",
    "    type_encoding[specie.symbol] = Z - 1\n",
    "    specie_am.append(specie.mass)\n",
    "\n",
    "type_onehot = torch.eye(len(type_encoding))\n",
    "am_onehot = torch.diag(torch.tensor(specie_am))"
   ]
  },
  {
   "cell_type": "code",
   "execution_count": 6,
   "id": "49997a45-a1d0-4c02-bf32-7506d770e972",
   "metadata": {},
   "outputs": [
    {
     "name": "stderr",
     "output_type": "stream",
     "text": [
      "  1%|          | 1/89 [00:00<00:00, 667.88it/s]                                                                               \n"
     ]
    },
    {
     "ename": "AttributeError",
     "evalue": "'str' object has no attribute 'symbols'",
     "output_type": "error",
     "traceback": [
      "\u001b[0;31m---------------------------------------------------------------------------\u001b[0m",
      "\u001b[0;31mAttributeError\u001b[0m                            Traceback (most recent call last)",
      "Cell \u001b[0;32mIn[6], line 33\u001b[0m\n\u001b[1;32m     30\u001b[0m     \u001b[38;5;28;01mreturn\u001b[39;00m data\n\u001b[1;32m     32\u001b[0m r_max \u001b[38;5;241m=\u001b[39m \u001b[38;5;241m3.5\u001b[39m \u001b[38;5;66;03m# cutoff radius\u001b[39;00m\n\u001b[0;32m---> 33\u001b[0m df[\u001b[38;5;124m'\u001b[39m\u001b[38;5;124mdata\u001b[39m\u001b[38;5;124m'\u001b[39m] \u001b[38;5;241m=\u001b[39m \u001b[43mdf\u001b[49m\u001b[38;5;241;43m.\u001b[39;49m\u001b[43mprogress_apply\u001b[49m\u001b[43m(\u001b[49m\u001b[38;5;28;43;01mlambda\u001b[39;49;00m\u001b[43m \u001b[49m\u001b[43mx\u001b[49m\u001b[43m:\u001b[49m\u001b[43m \u001b[49m\u001b[43mbuild_data\u001b[49m\u001b[43m(\u001b[49m\u001b[43mx\u001b[49m\u001b[43m,\u001b[49m\u001b[43m \u001b[49m\u001b[43mtype_encoding\u001b[49m\u001b[43m,\u001b[49m\u001b[43m \u001b[49m\u001b[43mtype_onehot\u001b[49m\u001b[43m,\u001b[49m\u001b[43m \u001b[49m\u001b[43mr_max\u001b[49m\u001b[43m)\u001b[49m\u001b[43m,\u001b[49m\u001b[43m \u001b[49m\u001b[43maxis\u001b[49m\u001b[38;5;241;43m=\u001b[39;49m\u001b[38;5;241;43m1\u001b[39;49m\u001b[43m)\u001b[49m\n",
      "File \u001b[0;32m~/miniconda3/envs/bec-qspr/lib/python3.11/site-packages/tqdm/std.py:805\u001b[0m, in \u001b[0;36mtqdm.pandas.<locals>.inner_generator.<locals>.inner\u001b[0;34m(df, func, *args, **kwargs)\u001b[0m\n\u001b[1;32m    802\u001b[0m \u001b[38;5;66;03m# Apply the provided function (in **kwargs)\u001b[39;00m\n\u001b[1;32m    803\u001b[0m \u001b[38;5;66;03m# on the df using our wrapper (which provides bar updating)\u001b[39;00m\n\u001b[1;32m    804\u001b[0m \u001b[38;5;28;01mtry\u001b[39;00m:\n\u001b[0;32m--> 805\u001b[0m     \u001b[38;5;28;01mreturn\u001b[39;00m \u001b[38;5;28;43mgetattr\u001b[39;49m\u001b[43m(\u001b[49m\u001b[43mdf\u001b[49m\u001b[43m,\u001b[49m\u001b[43m \u001b[49m\u001b[43mdf_function\u001b[49m\u001b[43m)\u001b[49m\u001b[43m(\u001b[49m\u001b[43mwrapper\u001b[49m\u001b[43m,\u001b[49m\u001b[43m \u001b[49m\u001b[38;5;241;43m*\u001b[39;49m\u001b[38;5;241;43m*\u001b[39;49m\u001b[43mkwargs\u001b[49m\u001b[43m)\u001b[49m\n\u001b[1;32m    806\u001b[0m \u001b[38;5;28;01mfinally\u001b[39;00m:\n\u001b[1;32m    807\u001b[0m     t\u001b[38;5;241m.\u001b[39mclose()\n",
      "File \u001b[0;32m~/miniconda3/envs/bec-qspr/lib/python3.11/site-packages/pandas/core/frame.py:10374\u001b[0m, in \u001b[0;36mDataFrame.apply\u001b[0;34m(self, func, axis, raw, result_type, args, by_row, engine, engine_kwargs, **kwargs)\u001b[0m\n\u001b[1;32m  10360\u001b[0m \u001b[38;5;28;01mfrom\u001b[39;00m \u001b[38;5;21;01mpandas\u001b[39;00m\u001b[38;5;21;01m.\u001b[39;00m\u001b[38;5;21;01mcore\u001b[39;00m\u001b[38;5;21;01m.\u001b[39;00m\u001b[38;5;21;01mapply\u001b[39;00m \u001b[38;5;28;01mimport\u001b[39;00m frame_apply\n\u001b[1;32m  10362\u001b[0m op \u001b[38;5;241m=\u001b[39m frame_apply(\n\u001b[1;32m  10363\u001b[0m     \u001b[38;5;28mself\u001b[39m,\n\u001b[1;32m  10364\u001b[0m     func\u001b[38;5;241m=\u001b[39mfunc,\n\u001b[0;32m   (...)\u001b[0m\n\u001b[1;32m  10372\u001b[0m     kwargs\u001b[38;5;241m=\u001b[39mkwargs,\n\u001b[1;32m  10373\u001b[0m )\n\u001b[0;32m> 10374\u001b[0m \u001b[38;5;28;01mreturn\u001b[39;00m \u001b[43mop\u001b[49m\u001b[38;5;241;43m.\u001b[39;49m\u001b[43mapply\u001b[49m\u001b[43m(\u001b[49m\u001b[43m)\u001b[49m\u001b[38;5;241m.\u001b[39m__finalize__(\u001b[38;5;28mself\u001b[39m, method\u001b[38;5;241m=\u001b[39m\u001b[38;5;124m\"\u001b[39m\u001b[38;5;124mapply\u001b[39m\u001b[38;5;124m\"\u001b[39m)\n",
      "File \u001b[0;32m~/miniconda3/envs/bec-qspr/lib/python3.11/site-packages/pandas/core/apply.py:916\u001b[0m, in \u001b[0;36mFrameApply.apply\u001b[0;34m(self)\u001b[0m\n\u001b[1;32m    913\u001b[0m \u001b[38;5;28;01melif\u001b[39;00m \u001b[38;5;28mself\u001b[39m\u001b[38;5;241m.\u001b[39mraw:\n\u001b[1;32m    914\u001b[0m     \u001b[38;5;28;01mreturn\u001b[39;00m \u001b[38;5;28mself\u001b[39m\u001b[38;5;241m.\u001b[39mapply_raw(engine\u001b[38;5;241m=\u001b[39m\u001b[38;5;28mself\u001b[39m\u001b[38;5;241m.\u001b[39mengine, engine_kwargs\u001b[38;5;241m=\u001b[39m\u001b[38;5;28mself\u001b[39m\u001b[38;5;241m.\u001b[39mengine_kwargs)\n\u001b[0;32m--> 916\u001b[0m \u001b[38;5;28;01mreturn\u001b[39;00m \u001b[38;5;28;43mself\u001b[39;49m\u001b[38;5;241;43m.\u001b[39;49m\u001b[43mapply_standard\u001b[49m\u001b[43m(\u001b[49m\u001b[43m)\u001b[49m\n",
      "File \u001b[0;32m~/miniconda3/envs/bec-qspr/lib/python3.11/site-packages/pandas/core/apply.py:1063\u001b[0m, in \u001b[0;36mFrameApply.apply_standard\u001b[0;34m(self)\u001b[0m\n\u001b[1;32m   1061\u001b[0m \u001b[38;5;28;01mdef\u001b[39;00m \u001b[38;5;21mapply_standard\u001b[39m(\u001b[38;5;28mself\u001b[39m):\n\u001b[1;32m   1062\u001b[0m     \u001b[38;5;28;01mif\u001b[39;00m \u001b[38;5;28mself\u001b[39m\u001b[38;5;241m.\u001b[39mengine \u001b[38;5;241m==\u001b[39m \u001b[38;5;124m\"\u001b[39m\u001b[38;5;124mpython\u001b[39m\u001b[38;5;124m\"\u001b[39m:\n\u001b[0;32m-> 1063\u001b[0m         results, res_index \u001b[38;5;241m=\u001b[39m \u001b[38;5;28;43mself\u001b[39;49m\u001b[38;5;241;43m.\u001b[39;49m\u001b[43mapply_series_generator\u001b[49m\u001b[43m(\u001b[49m\u001b[43m)\u001b[49m\n\u001b[1;32m   1064\u001b[0m     \u001b[38;5;28;01melse\u001b[39;00m:\n\u001b[1;32m   1065\u001b[0m         results, res_index \u001b[38;5;241m=\u001b[39m \u001b[38;5;28mself\u001b[39m\u001b[38;5;241m.\u001b[39mapply_series_numba()\n",
      "File \u001b[0;32m~/miniconda3/envs/bec-qspr/lib/python3.11/site-packages/pandas/core/apply.py:1081\u001b[0m, in \u001b[0;36mFrameApply.apply_series_generator\u001b[0;34m(self)\u001b[0m\n\u001b[1;32m   1078\u001b[0m \u001b[38;5;28;01mwith\u001b[39;00m option_context(\u001b[38;5;124m\"\u001b[39m\u001b[38;5;124mmode.chained_assignment\u001b[39m\u001b[38;5;124m\"\u001b[39m, \u001b[38;5;28;01mNone\u001b[39;00m):\n\u001b[1;32m   1079\u001b[0m     \u001b[38;5;28;01mfor\u001b[39;00m i, v \u001b[38;5;129;01min\u001b[39;00m \u001b[38;5;28menumerate\u001b[39m(series_gen):\n\u001b[1;32m   1080\u001b[0m         \u001b[38;5;66;03m# ignore SettingWithCopy here in case the user mutates\u001b[39;00m\n\u001b[0;32m-> 1081\u001b[0m         results[i] \u001b[38;5;241m=\u001b[39m \u001b[38;5;28;43mself\u001b[39;49m\u001b[38;5;241;43m.\u001b[39;49m\u001b[43mfunc\u001b[49m\u001b[43m(\u001b[49m\u001b[43mv\u001b[49m\u001b[43m,\u001b[49m\u001b[43m \u001b[49m\u001b[38;5;241;43m*\u001b[39;49m\u001b[38;5;28;43mself\u001b[39;49m\u001b[38;5;241;43m.\u001b[39;49m\u001b[43margs\u001b[49m\u001b[43m,\u001b[49m\u001b[43m \u001b[49m\u001b[38;5;241;43m*\u001b[39;49m\u001b[38;5;241;43m*\u001b[39;49m\u001b[38;5;28;43mself\u001b[39;49m\u001b[38;5;241;43m.\u001b[39;49m\u001b[43mkwargs\u001b[49m\u001b[43m)\u001b[49m\n\u001b[1;32m   1082\u001b[0m         \u001b[38;5;28;01mif\u001b[39;00m \u001b[38;5;28misinstance\u001b[39m(results[i], ABCSeries):\n\u001b[1;32m   1083\u001b[0m             \u001b[38;5;66;03m# If we have a view on v, we need to make a copy because\u001b[39;00m\n\u001b[1;32m   1084\u001b[0m             \u001b[38;5;66;03m#  series_generator will swap out the underlying data\u001b[39;00m\n\u001b[1;32m   1085\u001b[0m             results[i] \u001b[38;5;241m=\u001b[39m results[i]\u001b[38;5;241m.\u001b[39mcopy(deep\u001b[38;5;241m=\u001b[39m\u001b[38;5;28;01mFalse\u001b[39;00m)\n",
      "File \u001b[0;32m~/miniconda3/envs/bec-qspr/lib/python3.11/site-packages/tqdm/std.py:800\u001b[0m, in \u001b[0;36mtqdm.pandas.<locals>.inner_generator.<locals>.inner.<locals>.wrapper\u001b[0;34m(*args, **kwargs)\u001b[0m\n\u001b[1;32m    794\u001b[0m \u001b[38;5;28;01mdef\u001b[39;00m \u001b[38;5;21mwrapper\u001b[39m(\u001b[38;5;241m*\u001b[39margs, \u001b[38;5;241m*\u001b[39m\u001b[38;5;241m*\u001b[39mkwargs):\n\u001b[1;32m    795\u001b[0m     \u001b[38;5;66;03m# update tbar correctly\u001b[39;00m\n\u001b[1;32m    796\u001b[0m     \u001b[38;5;66;03m# it seems `pandas apply` calls `func` twice\u001b[39;00m\n\u001b[1;32m    797\u001b[0m     \u001b[38;5;66;03m# on the first column/row to decide whether it can\u001b[39;00m\n\u001b[1;32m    798\u001b[0m     \u001b[38;5;66;03m# take a fast or slow code path; so stop when t.total==t.n\u001b[39;00m\n\u001b[1;32m    799\u001b[0m     t\u001b[38;5;241m.\u001b[39mupdate(n\u001b[38;5;241m=\u001b[39m\u001b[38;5;241m1\u001b[39m \u001b[38;5;28;01mif\u001b[39;00m \u001b[38;5;129;01mnot\u001b[39;00m t\u001b[38;5;241m.\u001b[39mtotal \u001b[38;5;129;01mor\u001b[39;00m t\u001b[38;5;241m.\u001b[39mn \u001b[38;5;241m<\u001b[39m t\u001b[38;5;241m.\u001b[39mtotal \u001b[38;5;28;01melse\u001b[39;00m \u001b[38;5;241m0\u001b[39m)\n\u001b[0;32m--> 800\u001b[0m     \u001b[38;5;28;01mreturn\u001b[39;00m \u001b[43mfunc\u001b[49m\u001b[43m(\u001b[49m\u001b[38;5;241;43m*\u001b[39;49m\u001b[43margs\u001b[49m\u001b[43m,\u001b[49m\u001b[43m \u001b[49m\u001b[38;5;241;43m*\u001b[39;49m\u001b[38;5;241;43m*\u001b[39;49m\u001b[43mkwargs\u001b[49m\u001b[43m)\u001b[49m\n",
      "Cell \u001b[0;32mIn[6], line 33\u001b[0m, in \u001b[0;36m<lambda>\u001b[0;34m(x)\u001b[0m\n\u001b[1;32m     30\u001b[0m     \u001b[38;5;28;01mreturn\u001b[39;00m data\n\u001b[1;32m     32\u001b[0m r_max \u001b[38;5;241m=\u001b[39m \u001b[38;5;241m3.5\u001b[39m \u001b[38;5;66;03m# cutoff radius\u001b[39;00m\n\u001b[0;32m---> 33\u001b[0m df[\u001b[38;5;124m'\u001b[39m\u001b[38;5;124mdata\u001b[39m\u001b[38;5;124m'\u001b[39m] \u001b[38;5;241m=\u001b[39m df\u001b[38;5;241m.\u001b[39mprogress_apply(\u001b[38;5;28;01mlambda\u001b[39;00m x: \u001b[43mbuild_data\u001b[49m\u001b[43m(\u001b[49m\u001b[43mx\u001b[49m\u001b[43m,\u001b[49m\u001b[43m \u001b[49m\u001b[43mtype_encoding\u001b[49m\u001b[43m,\u001b[49m\u001b[43m \u001b[49m\u001b[43mtype_onehot\u001b[49m\u001b[43m,\u001b[49m\u001b[43m \u001b[49m\u001b[43mr_max\u001b[49m\u001b[43m)\u001b[49m, axis\u001b[38;5;241m=\u001b[39m\u001b[38;5;241m1\u001b[39m)\n",
      "Cell \u001b[0;32mIn[6], line 3\u001b[0m, in \u001b[0;36mbuild_data\u001b[0;34m(entry, type_encoding, type_onehot, r_max)\u001b[0m\n\u001b[1;32m      2\u001b[0m \u001b[38;5;28;01mdef\u001b[39;00m \u001b[38;5;21mbuild_data\u001b[39m(entry, type_encoding, type_onehot, r_max\u001b[38;5;241m=\u001b[39m\u001b[38;5;241m3.5\u001b[39m):\n\u001b[0;32m----> 3\u001b[0m     symbols \u001b[38;5;241m=\u001b[39m \u001b[38;5;28mlist\u001b[39m(\u001b[43mentry\u001b[49m\u001b[38;5;241;43m.\u001b[39;49m\u001b[43mstructure\u001b[49m\u001b[38;5;241;43m.\u001b[39;49m\u001b[43msymbols\u001b[49m)\u001b[38;5;241m.\u001b[39mcopy()\n\u001b[1;32m      4\u001b[0m     positions \u001b[38;5;241m=\u001b[39m torch\u001b[38;5;241m.\u001b[39mfrom_numpy(entry\u001b[38;5;241m.\u001b[39mstructure\u001b[38;5;241m.\u001b[39mpositions\u001b[38;5;241m.\u001b[39mcopy())\n\u001b[1;32m      5\u001b[0m     lattice \u001b[38;5;241m=\u001b[39m torch\u001b[38;5;241m.\u001b[39mfrom_numpy(entry\u001b[38;5;241m.\u001b[39mstructure\u001b[38;5;241m.\u001b[39mcell\u001b[38;5;241m.\u001b[39marray\u001b[38;5;241m.\u001b[39mcopy())\u001b[38;5;241m.\u001b[39munsqueeze(\u001b[38;5;241m0\u001b[39m)\n",
      "\u001b[0;31mAttributeError\u001b[0m: 'str' object has no attribute 'symbols'"
     ]
    }
   ],
   "source": [
    "# build data\n",
    "def build_data(entry, type_encoding, type_onehot, r_max=3.5):\n",
    "    symbols = list(entry.structure.symbols).copy()\n",
    "    positions = torch.from_numpy(entry.structure.positions.copy())\n",
    "    lattice = torch.from_numpy(entry.structure.cell.array.copy()).unsqueeze(0)\n",
    "\n",
    "    # edge_src and edge_dst are the indices of the central and neighboring atom, respectively\n",
    "    # edge_shift indicates whether the neighbors are in different images or copies of the unit cell\n",
    "    edge_src, edge_dst, edge_shift = neighbor_list(\"ijS\", a=entry.structure, cutoff=r_max, self_interaction=True)\n",
    "    \n",
    "    # compute the relative distances and unit cell shifts from periodic boundaries\n",
    "    edge_batch = positions.new_zeros(positions.shape[0], dtype=torch.long)[torch.from_numpy(edge_src)]\n",
    "    edge_vec = (positions[torch.from_numpy(edge_dst)]\n",
    "                - positions[torch.from_numpy(edge_src)]\n",
    "                + torch.einsum('ni,nij->nj', torch.tensor(edge_shift, dtype=default_dtype), lattice[edge_batch]))\n",
    "\n",
    "    # compute edge lengths (rounded only for plotting purposes)\n",
    "    edge_len = np.around(edge_vec.norm(dim=1).numpy(), decimals=2)\n",
    "    \n",
    "    data = tg.data.Data(\n",
    "        pos=positions, lattice=lattice, symbol=symbols,\n",
    "        x=am_onehot[[type_encoding[specie] for specie in symbols]],   # atomic mass (node feature)\n",
    "        z=type_onehot[[type_encoding[specie] for specie in symbols]], # atom type (node attribute)\n",
    "        edge_index=torch.stack([torch.LongTensor(edge_src), torch.LongTensor(edge_dst)], dim=0),\n",
    "        edge_shift=torch.tensor(edge_shift, dtype=default_dtype),\n",
    "        edge_vec=edge_vec, edge_len=edge_len,\n",
    "        bec=torch.from_numpy(entry.bec).unsqueeze(0)\n",
    "    )\n",
    "    \n",
    "    return data\n",
    "\n",
    "r_max = 3.5 # cutoff radius\n",
    "df['data'] = df.progress_apply(lambda x: build_data(x, type_encoding, type_onehot, r_max), axis=1)"
   ]
  },
  {
   "cell_type": "code",
   "execution_count": null,
   "id": "734657d9-457a-4e0b-bbe6-3eef3d179669",
   "metadata": {},
   "outputs": [],
   "source": []
  }
 ],
 "metadata": {
  "kernelspec": {
   "display_name": "Python 3 (ipykernel)",
   "language": "python",
   "name": "python3"
  },
  "language_info": {
   "codemirror_mode": {
    "name": "ipython",
    "version": 3
   },
   "file_extension": ".py",
   "mimetype": "text/x-python",
   "name": "python",
   "nbconvert_exporter": "python",
   "pygments_lexer": "ipython3",
   "version": "3.11.7"
  }
 },
 "nbformat": 4,
 "nbformat_minor": 5
}
